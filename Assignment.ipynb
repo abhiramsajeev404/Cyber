{
  "nbformat": 4,
  "nbformat_minor": 0,
  "metadata": {
    "colab": {
      "provenance": [],
      "authorship_tag": "ABX9TyO8afY/pCRJOvePZ6TRPEE0",
      "include_colab_link": true
    },
    "kernelspec": {
      "name": "python3",
      "display_name": "Python 3"
    },
    "language_info": {
      "name": "python"
    }
  },
  "cells": [
    {
      "cell_type": "markdown",
      "metadata": {
        "id": "view-in-github",
        "colab_type": "text"
      },
      "source": [
        "<a href=\"https://colab.research.google.com/github/abhiramsajeev404/Cyber/blob/main/Assignment.ipynb\" target=\"_parent\"><img src=\"https://colab.research.google.com/assets/colab-badge.svg\" alt=\"Open In Colab\"/></a>"
      ]
    },
    {
      "cell_type": "markdown",
      "source": [
        "#Ceaser Cipher"
      ],
      "metadata": {
        "id": "QgdAD9ko_mUV"
      }
    },
    {
      "cell_type": "markdown",
      "source": [
        "Symmetric encryption algorithm used here is Caesar cipher.It is a symmetric encryption technique which uses the same key for both encryption and decryption.The Caesar cipher method is based on a mono-alphabetic cipher and is also called a shift cipher."
      ],
      "metadata": {
        "id": "CtWmHCeuAVUQ"
      }
    },
    {
      "cell_type": "code",
      "execution_count": 1,
      "metadata": {
        "colab": {
          "base_uri": "https://localhost:8080/"
        },
        "id": "-JF096Cw3DHA",
        "outputId": "7b9391ed-decb-420d-ed49-783823937178"
      },
      "outputs": [
        {
          "output_type": "stream",
          "name": "stdout",
          "text": [
            "Enter the text:abhiram\n",
            "Encrypted text: dekludp\n",
            "Decrypted text: abhiram\n"
          ]
        }
      ],
      "source": [
        "def encrypt():\n",
        "    new_txt = \"\"\n",
        "    for char in txt:\n",
        "        ascii = ord(char)\n",
        "        new_ascii = ascii + 3\n",
        "        new_char = chr(new_ascii)\n",
        "        new_txt = new_txt + new_char\n",
        "    return new_txt\n",
        "\n",
        "def decrypt():\n",
        "    new_txt = \"\"\n",
        "    for char in cipher:\n",
        "        ascii = ord(char)\n",
        "        new_ascii = ascii - 3\n",
        "        new_char = chr(new_ascii)\n",
        "        new_txt = new_txt + new_char\n",
        "    return new_txt\n",
        "\n",
        "txt = input(\"Enter the text:\")\n",
        "cipher = encrypt()\n",
        "print(\"Encrypted text:\",cipher)\n",
        "plain = decrypt()\n",
        "print(\"Decrypted text:\",plain)"
      ]
    },
    {
      "cell_type": "markdown",
      "source": [
        "# Vignere Cipher"
      ],
      "metadata": {
        "id": "RDGr-w9z_cNv"
      }
    },
    {
      "cell_type": "markdown",
      "source": [
        "Vignere Cipher is a polyalphabetic substitution cipher, which means that it uses multiple cipher alphabets to encrypt the plaintext.It offers more security compared to simple substitution ciphers because it introduces variability and makes it harder to identify patterns in the encrypted message. However, it is not as strong as modern encryption methods and can be vulnerable to cryptanalysis techniques."
      ],
      "metadata": {
        "id": "ehrw2kceCcC_"
      }
    },
    {
      "cell_type": "code",
      "source": [
        "#Encryption\n",
        "def encrypt(plain_txt, key):\n",
        "\n",
        "\n",
        "    alphabet_dictionary = {\n",
        "        'a': 0,\n",
        "        'b': 1,\n",
        "        'c': 2,\n",
        "        'd': 3,\n",
        "        'e': 4,\n",
        "        'f': 5,\n",
        "        'g': 6,\n",
        "        'h': 7,\n",
        "        'i': 8,\n",
        "        'j': 9,\n",
        "        'k': 10,\n",
        "        'l': 11,\n",
        "        'm': 12,\n",
        "        'n': 13,\n",
        "        'o': 14,\n",
        "        'p': 15,\n",
        "        'q': 16,\n",
        "        'r': 17,\n",
        "        's': 18,\n",
        "        't': 19,\n",
        "        'u': 20,\n",
        "        'v': 21,\n",
        "        'w': 22,\n",
        "        'x': 23,\n",
        "        'y': 24,\n",
        "        'z': 25\n",
        "    }\n",
        "\n",
        "\n",
        "\n",
        "    encrypted_txt = \"\"\n",
        "    for char,i in zip(plain_txt,key):\n",
        "\n",
        "            if char.isalpha():\n",
        "                new_index = (alphabet_dictionary[char] + alphabet_dictionary[i]) % 26\n",
        "                cipher_txt = next(key for key, value in alphabet_dictionary.items() if value == new_index)\n",
        "                encrypted_txt += cipher_txt\n",
        "            else:\n",
        "                encrypted_txt += char\n",
        "    print(\"Encrypted text: \",encrypted_txt)\n",
        "\n",
        "key = input(\"Enter the key: \")\n",
        "txt = input(\"Enter the plain text: \")\n",
        "encrypt(txt, key)"
      ],
      "metadata": {
        "colab": {
          "base_uri": "https://localhost:8080/"
        },
        "id": "hAWyrM_1FXTw",
        "outputId": "08264285-0158-4996-f33e-21f5c36dc630"
      },
      "execution_count": 5,
      "outputs": [
        {
          "output_type": "stream",
          "name": "stdout",
          "text": [
            "Enter the key: nicekey\n",
            "Enter the plain text: cipher\n",
            "Encrypted text:  pqrlov\n"
          ]
        }
      ]
    },
    {
      "cell_type": "code",
      "source": [
        "#Decryption\n",
        "def decrypt(cipher_txt, key):\n",
        "\n",
        "\n",
        "    alphabet_dictionary = {\n",
        "        'a': 0,\n",
        "        'b': 1,\n",
        "        'c': 2,\n",
        "        'd': 3,\n",
        "        'e': 4,\n",
        "        'f': 5,\n",
        "        'g': 6,\n",
        "        'h': 7,\n",
        "        'i': 8,\n",
        "        'j': 9,\n",
        "        'k': 10,\n",
        "        'l': 11,\n",
        "        'm': 12,\n",
        "        'n': 13,\n",
        "        'o': 14,\n",
        "        'p': 15,\n",
        "        'q': 16,\n",
        "        'r': 17,\n",
        "        's': 18,\n",
        "        't': 19,\n",
        "        'u': 20,\n",
        "        'v': 21,\n",
        "        'w': 22,\n",
        "        'x': 23,\n",
        "        'y': 24,\n",
        "        'z': 25\n",
        "    }\n",
        "\n",
        "\n",
        "\n",
        "    decrypted_txt = \"\"\n",
        "    for char,i in zip(cipher_txt,key):\n",
        "\n",
        "        if char.isalpha():\n",
        "            new_index = (alphabet_dictionary[char]-alphabet_dictionary[i]) % 26\n",
        "            plain_txt = next(key for key, value in alphabet_dictionary.items() if value == new_index)\n",
        "            decrypted_txt += plain_txt\n",
        "        else:\n",
        "            decrypted_txt += char\n",
        "    print(\"Decrypted text: \",decrypted_txt)\n",
        "\n",
        "key = input(\"Enter the key: \")\n",
        "txt = input(\"Enter the cipher text: \")\n",
        "\n",
        "decrypt(txt, key)"
      ],
      "metadata": {
        "colab": {
          "base_uri": "https://localhost:8080/"
        },
        "id": "P_icfe-vFmDm",
        "outputId": "9dc1166a-f007-487c-8919-22de5149a39d"
      },
      "execution_count": 9,
      "outputs": [
        {
          "output_type": "stream",
          "name": "stdout",
          "text": [
            "Enter the key: nicekey\n",
            "Enter the cipher text: pqrlov\n",
            "Decrypted text:  cipher\n"
          ]
        }
      ]
    }
  ]
}